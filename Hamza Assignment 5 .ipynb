{
 "cells": [
  {
   "cell_type": "code",
   "execution_count": 1,
   "id": "d90525a8-1681-4a58-941b-e1f7a3dde0cb",
   "metadata": {},
   "outputs": [
    {
     "name": "stdout",
     "output_type": "stream",
     "text": [
      "The sum is: 12\n"
     ]
    }
   ],
   "source": [
    "# Function definition\n",
    "def add_numbers(a, b):\n",
    "    return a + b\n",
    "\n",
    "# Test the function\n",
    "result = add_numbers(5, 7)\n",
    "print(\"The sum is:\", result)\n"
   ]
  },
  {
   "cell_type": "code",
   "execution_count": 2,
   "id": "fa330b18-0dcb-4251-a41f-87c00f23c52b",
   "metadata": {},
   "outputs": [
    {
     "name": "stdout",
     "output_type": "stream",
     "text": [
      "$10 USD is equivalent to 2800 PKR at an exchange rate of 280.\n"
     ]
    }
   ],
   "source": [
    "# Function definition\n",
    "def currency_converter(amount, exchange_rate=280):\n",
    "    converted_amount = amount * exchange_rate\n",
    "    return f\"${amount} USD is equivalent to {converted_amount} PKR at an exchange rate of {exchange_rate}.\"\n",
    "\n",
    "# Test the function\n",
    "message = currency_converter(10)\n",
    "print(message)\n"
   ]
  },
  {
   "cell_type": "code",
   "execution_count": 3,
   "id": "9a12ebe0-c7c5-47c7-aee8-9312b09a61a5",
   "metadata": {},
   "outputs": [
    {
     "name": "stdout",
     "output_type": "stream",
     "text": [
      "Student Name: Ali\n",
      "Age: 14\n",
      "Grade: 8th\n",
      "School: City High School\n"
     ]
    }
   ],
   "source": [
    "# Function definition\n",
    "def display_student_info(*, name, age, grade, school):\n",
    "    print(f\"Student Name: {name}\")\n",
    "    print(f\"Age: {age}\")\n",
    "    print(f\"Grade: {grade}\")\n",
    "    print(f\"School: {school}\")\n",
    "\n",
    "# Test the function\n",
    "display_student_info(name=\"Ali\", age=14, grade=\"8th\", school=\"City High School\")\n"
   ]
  },
  {
   "cell_type": "code",
   "execution_count": 4,
   "id": "28abcf70-aa56-4731-853d-aa64db1f1d50",
   "metadata": {},
   "outputs": [
    {
     "name": "stdout",
     "output_type": "stream",
     "text": [
      "Total Price: 450\n"
     ]
    }
   ],
   "source": [
    "# Function definition\n",
    "def calculate_price(price, quantity):\n",
    "    return price * quantity\n",
    "\n",
    "# Test the function\n",
    "total = calculate_price(150, 3)\n",
    "print(\"Total Price:\", total)\n"
   ]
  },
  {
   "cell_type": "code",
   "execution_count": 5,
   "id": "199a492d-3360-447a-a287-bdf1feaa4943",
   "metadata": {},
   "outputs": [
    {
     "name": "stdout",
     "output_type": "stream",
     "text": [
      "Product: Laptop\n",
      "Amazon: $800\n",
      "eBay: $750\n",
      "Walmart: $780\n"
     ]
    }
   ],
   "source": [
    "# Function definition\n",
    "def display_prices(product_name, **prices):\n",
    "    print(f\"Product: {product_name}\")\n",
    "    for store, price in prices.items():\n",
    "        print(f\"{store}: ${price}\")\n",
    "\n",
    "# Test the function\n",
    "display_prices(\n",
    "    \"Laptop\",\n",
    "    Amazon=800,\n",
    "    eBay=750,\n",
    "    Walmart=780\n",
    ")\n"
   ]
  },
  {
   "cell_type": "code",
   "execution_count": 6,
   "id": "228bfba0-051e-483c-8eff-4f629eef84fb",
   "metadata": {},
   "outputs": [
    {
     "name": "stdout",
     "output_type": "stream",
     "text": [
      "Maximum number: 87\n"
     ]
    }
   ],
   "source": [
    "# Function definition\n",
    "def find_max(*numbers):\n",
    "    if not numbers:\n",
    "        return \"No numbers provided.\"\n",
    "    return max(numbers)\n",
    "\n",
    "# Test the function\n",
    "result = find_max(10, 25, 3, 87, 42)\n",
    "print(\"Maximum number:\", result)\n"
   ]
  },
  {
   "cell_type": "code",
   "execution_count": 7,
   "id": "ffcf9e8c-3f30-4500-b4ac-0bb1ce9d5e71",
   "metadata": {},
   "outputs": [
    {
     "name": "stdout",
     "output_type": "stream",
     "text": [
      "- Name: Alice\n",
      "- Age: 30\n",
      "- Other Details:\n",
      "    - address: 123 Main St\n",
      "    - phone: 123-456-7890\n",
      "    - email: alice@example.com\n"
     ]
    }
   ],
   "source": [
    "# Function definition\n",
    "def display_info(name, age, **details):\n",
    "    print(f\"- Name: {name}\")\n",
    "    print(f\"- Age: {age}\")\n",
    "    if details:\n",
    "        print(\"- Other Details:\")\n",
    "        for key, value in details.items():\n",
    "            print(f\"    - {key}: {value}\")\n",
    "\n",
    "# Test the function\n",
    "display_info(\n",
    "    \"Alice\", 30,\n",
    "    address=\"123 Main St\",\n",
    "    phone=\"123-456-7890\",\n",
    "    email=\"alice@example.com\"\n",
    ")\n"
   ]
  },
  {
   "cell_type": "code",
   "execution_count": null,
   "id": "1b43e6cc-41eb-404c-97d9-f0d085624514",
   "metadata": {},
   "outputs": [],
   "source": []
  }
 ],
 "metadata": {
  "kernelspec": {
   "display_name": "Python 3 (ipykernel)",
   "language": "python",
   "name": "python3"
  },
  "language_info": {
   "codemirror_mode": {
    "name": "ipython",
    "version": 3
   },
   "file_extension": ".py",
   "mimetype": "text/x-python",
   "name": "python",
   "nbconvert_exporter": "python",
   "pygments_lexer": "ipython3",
   "version": "3.12.7"
  }
 },
 "nbformat": 4,
 "nbformat_minor": 5
}
