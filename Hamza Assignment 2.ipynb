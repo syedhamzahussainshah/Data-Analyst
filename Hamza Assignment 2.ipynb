{
 "cells": [
  {
   "cell_type": "code",
   "execution_count": 1,
   "id": "d3cc986a-cd8b-4ba1-af53-84c51b35b03b",
   "metadata": {},
   "outputs": [
    {
     "name": "stdout",
     "output_type": "stream",
     "text": [
      "With underscores: hello_python_world\n",
      "Split list: ['hello', 'python', 'world']\n",
      "Hyphen joined: hello-python-world\n"
     ]
    }
   ],
   "source": [
    "text = 'hello python world'\n",
    "\n",
    "# 1. Replace spaces with underscores\n",
    "text_with_underscores = text.replace(\" \", \"_\")\n",
    "\n",
    "# 2. Split the modified string by underscores\n",
    "split_text = text_with_underscores.split(\"_\")\n",
    "\n",
    "# 3. Join the list with hyphens\n",
    "hyphen_text = \"-\".join(split_text)\n",
    "\n",
    "# Print all three results\n",
    "print(\"With underscores:\", text_with_underscores)\n",
    "print(\"Split list:\", split_text)\n",
    "print(\"Hyphen joined:\", hyphen_text)\n"
   ]
  },
  {
   "cell_type": "code",
   "execution_count": 2,
   "id": "7b90bec9-45e8-4fe0-b5db-e905f6532d9a",
   "metadata": {},
   "outputs": [
    {
     "name": "stdout",
     "output_type": "stream",
     "text": [
      "True\n"
     ]
    }
   ],
   "source": [
    "word = \"Javascript\"\n",
    "\n",
    "# Check if the word has more than 5 characters\n",
    "print(len(word) > 5)\n"
   ]
  },
  {
   "cell_type": "code",
   "execution_count": 3,
   "id": "7c35b1ab-4e7b-439a-a1ac-b0b52a7d5bd1",
   "metadata": {},
   "outputs": [
    {
     "name": "stdout",
     "output_type": "stream",
     "text": [
      "True\n"
     ]
    }
   ],
   "source": [
    "num2 = 12\n",
    "\n",
    "# Check if number is even and greater than 10\n",
    "print(num2 % 2 == 0 and num2 > 10)\n"
   ]
  },
  {
   "cell_type": "code",
   "execution_count": 4,
   "id": "0dd07681-d496-48f2-8362-bcd4b081b36a",
   "metadata": {},
   "outputs": [
    {
     "name": "stdout",
     "output_type": "stream",
     "text": [
      "True\n"
     ]
    }
   ],
   "source": [
    "num3 = 3\n",
    "\n",
    "# Check if number is less than 5 or greater than 20\n",
    "print(num3 < 5 or num3 > 20)\n"
   ]
  },
  {
   "cell_type": "code",
   "execution_count": 5,
   "id": "621e51a0-aaf8-49fc-89fe-65995f5ccb94",
   "metadata": {},
   "outputs": [
    {
     "name": "stdout",
     "output_type": "stream",
     "text": [
      "True\n"
     ]
    }
   ],
   "source": [
    "age = 25\n",
    "has_id = True\n",
    "\n",
    "# Check if age is between 18 and 65 AND has valid ID\n",
    "print(age >= 18 and age <= 65 and has_id)\n"
   ]
  },
  {
   "cell_type": "code",
   "execution_count": 6,
   "id": "8d3f5738-9afb-4486-a599-c78b373ec95d",
   "metadata": {},
   "outputs": [
    {
     "name": "stdout",
     "output_type": "stream",
     "text": [
      "True\n",
      "True\n"
     ]
    }
   ],
   "source": [
    "# ✅ Recommended, cleaner\n",
    "print(age >= 18 and age <= 65 and has_id)\n",
    "\n",
    "# ❗ Less clean, but still works\n",
    "print(age >= 18 and age <= 65 and has_id == True)\n"
   ]
  },
  {
   "cell_type": "code",
   "execution_count": 7,
   "id": "3b498c01-11bc-43ad-aced-e8be8457a357",
   "metadata": {},
   "outputs": [
    {
     "name": "stdout",
     "output_type": "stream",
     "text": [
      "False\n",
      "True\n"
     ]
    }
   ],
   "source": [
    "url = \"https://www.example.com\"\n",
    "\n",
    "# Check if it starts with \"http://\" or \"https://\"\n",
    "print(url.startswith(\"http://\"))\n",
    "print(url.startswith(\"https://\"))\n"
   ]
  },
  {
   "cell_type": "code",
   "execution_count": 8,
   "id": "ca540b20-d53b-47c8-9cf1-189049f75f59",
   "metadata": {},
   "outputs": [
    {
     "name": "stdout",
     "output_type": "stream",
     "text": [
      "90.0\n"
     ]
    }
   ],
   "source": [
    "price = 100\n",
    "\n",
    "# Apply 10% discount using assignment operator\n",
    "price -= price * 0.10\n",
    "\n",
    "print(price)\n"
   ]
  },
  {
   "cell_type": "code",
   "execution_count": 10,
   "id": "8044a460-c942-48c8-9583-34332b3355e7",
   "metadata": {},
   "outputs": [
    {
     "name": "stdout",
     "output_type": "stream",
     "text": [
      "False\n"
     ]
    }
   ],
   "source": [
    "premium_customers = [\"alice@example.com\", \"charlie@example.com\", \"bob@example.com\"]\n",
    "basic_customers = [\"alex@example.com\", \"david@example.com\", \"chloe@example.com\"]\n",
    "\n",
    "# Check if 'alice@example.com' is both a premium and basic customer\n",
    "print(\"alice@example.com\" in premium_customers and \"alice@example.com\" in basic_customers)\n",
    "\n"
   ]
  },
  {
   "cell_type": "code",
   "execution_count": 11,
   "id": "0cc73bee-0a72-4e86-b803-4b3bf18a656b",
   "metadata": {},
   "outputs": [
    {
     "name": "stdin",
     "output_type": "stream",
     "text": [
      "Enter your password:  Hamza\n"
     ]
    },
    {
     "name": "stdout",
     "output_type": "stream",
     "text": [
      "Contains uppercase: True\n",
      "Contains lowercase: True\n",
      "Contains space: False\n",
      "Contains special character: False\n"
     ]
    }
   ],
   "source": [
    "# Prompt the user to enter a password\n",
    "password = input(\"Enter your password: \")\n",
    "\n",
    "# Check conditions using string methods\n",
    "has_upper = any(char.isupper() for char in password)  # Check for uppercase\n",
    "has_lower = any(char.islower() for char in password)  # Check for lowercase\n",
    "has_space = ' ' in password  # Check for spaces\n",
    "has_special = any(not char.isalnum() and char != ' ' for char in password)  # Check for special characters\n",
    "\n",
    "# Output the results\n",
    "print(\"Contains uppercase:\", has_upper)\n",
    "print(\"Contains lowercase:\", has_lower)\n",
    "print(\"Contains space:\", has_space)\n",
    "print(\"Contains special character:\", has_special)\n"
   ]
  },
  {
   "cell_type": "code",
   "execution_count": 12,
   "id": "6a425531-5807-41fc-a694-7a611187f773",
   "metadata": {},
   "outputs": [
    {
     "name": "stdout",
     "output_type": "stream",
     "text": [
      "First position of dash: 3\n",
      "Number of dashes: 2\n",
      "Extracted numeric part: 12345\n"
     ]
    }
   ],
   "source": [
    "product_code = \"SKU-12345-XYZ\"\n",
    "\n",
    "# 1. Find the first position of the dash (-)\n",
    "first_dash_position = product_code.find('-')\n",
    "print(\"First position of dash:\", first_dash_position)\n",
    "\n",
    "# 2. Count the number of dashes (-) in the product code\n",
    "dash_count = product_code.count('-')\n",
    "print(\"Number of dashes:\", dash_count)\n",
    "\n",
    "# 3. Remove the \"SKU-\" prefix and \"-XYZ\" suffix, Extract the numeric part 12345\n",
    "numeric_part = product_code[4:-4]  # Extract the substring from position 4 to -4\n",
    "print(\"Extracted numeric part:\", numeric_part)\n"
   ]
  },
  {
   "cell_type": "code",
   "execution_count": null,
   "id": "7964cb0a-8008-409e-bc88-77c6a0d050df",
   "metadata": {},
   "outputs": [],
   "source": []
  }
 ],
 "metadata": {
  "kernelspec": {
   "display_name": "Python 3 (ipykernel)",
   "language": "python",
   "name": "python3"
  },
  "language_info": {
   "codemirror_mode": {
    "name": "ipython",
    "version": 3
   },
   "file_extension": ".py",
   "mimetype": "text/x-python",
   "name": "python",
   "nbconvert_exporter": "python",
   "pygments_lexer": "ipython3",
   "version": "3.12.7"
  }
 },
 "nbformat": 4,
 "nbformat_minor": 5
}
