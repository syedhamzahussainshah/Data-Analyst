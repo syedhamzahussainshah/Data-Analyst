{
 "cells": [
  {
   "cell_type": "code",
   "execution_count": 1,
   "id": "3b5bbb3e-ff43-4ef3-ae82-0e0b350db43e",
   "metadata": {},
   "outputs": [
    {
     "name": "stdin",
     "output_type": "stream",
     "text": [
      "Enter the age:  6\n"
     ]
    },
    {
     "name": "stdout",
     "output_type": "stream",
     "text": [
      "The person is classified as: Child\n"
     ]
    }
   ],
   "source": [
    "def classify_age(age):\n",
    "    if age >= 0 and age <= 12:\n",
    "        return \"Child\"\n",
    "    elif age >= 13 and age <= 19:\n",
    "        return \"Teenager\"\n",
    "    elif age >= 20 and age <= 64:\n",
    "        return \"Adult\"\n",
    "    elif age >= 65:\n",
    "        return \"Senior\"\n",
    "    else:\n",
    "        return \"Invalid age\"\n",
    "\n",
    "# Get user input\n",
    "try:\n",
    "    age = int(input(\"Enter the age: \"))\n",
    "    group = classify_age(age)\n",
    "    print(f\"The person is classified as: {group}\")\n",
    "except ValueError:\n",
    "    print(\"Please enter a valid integer age.\")\n"
   ]
  },
  {
   "cell_type": "code",
   "execution_count": 2,
   "id": "810d33f2-62aa-41aa-a618-7cde1095c52f",
   "metadata": {},
   "outputs": [
    {
     "name": "stdin",
     "output_type": "stream",
     "text": [
      "Enter first number:  2\n",
      "Enter second number:  3\n",
      "Enter third number:  4\n"
     ]
    },
    {
     "name": "stdout",
     "output_type": "stream",
     "text": [
      "All numbers are different.\n",
      "The largest number is: 4.0\n"
     ]
    }
   ],
   "source": [
    "def find_largest_and_check_equal(a, b, c):\n",
    "    # Check for all equal\n",
    "    if a == b == c:\n",
    "        print(\"All three numbers are equal.\")\n",
    "    # Check for any two equal\n",
    "    elif a == b or b == c or a == c:\n",
    "        print(\"Two numbers are equal.\")\n",
    "    else:\n",
    "        print(\"All numbers are different.\")\n",
    "\n",
    "    # Find the largest\n",
    "    largest = max(a, b, c)\n",
    "    print(f\"The largest number is: {largest}\")\n",
    "\n",
    "# Get user input\n",
    "try:\n",
    "    num1 = float(input(\"Enter first number: \"))\n",
    "    num2 = float(input(\"Enter second number: \"))\n",
    "    num3 = float(input(\"Enter third number: \"))\n",
    "\n",
    "    find_largest_and_check_equal(num1, num2, num3)\n",
    "\n",
    "except ValueError:\n",
    "    print(\"Please enter valid numbers.\")\n"
   ]
  },
  {
   "cell_type": "code",
   "execution_count": 3,
   "id": "3931f481-665f-4c89-a728-57bfa3131f6e",
   "metadata": {},
   "outputs": [
    {
     "name": "stdin",
     "output_type": "stream",
     "text": [
      "Enter a number:  5\n"
     ]
    },
    {
     "name": "stdout",
     "output_type": "stream",
     "text": [
      "The number is positive and odd.\n"
     ]
    }
   ],
   "source": [
    "def check_number(num):\n",
    "    if num > 0:\n",
    "        if num % 2 == 0:\n",
    "            print(\"The number is positive and even.\")\n",
    "        else:\n",
    "            print(\"The number is positive and odd.\")\n",
    "    else:\n",
    "        print(\"The number is not positive.\")\n",
    "\n",
    "# Get user input\n",
    "try:\n",
    "    number = int(input(\"Enter a number: \"))\n",
    "    check_number(number)\n",
    "except ValueError:\n",
    "    print(\"Please enter a valid integer.\")\n"
   ]
  },
  {
   "cell_type": "code",
   "execution_count": 4,
   "id": "4b0a854a-8141-4491-8eca-bf9d9234596c",
   "metadata": {},
   "outputs": [
    {
     "name": "stdin",
     "output_type": "stream",
     "text": [
      "Enter username:  hamza\n"
     ]
    },
    {
     "name": "stdout",
     "output_type": "stream",
     "text": [
      "Incorrect username\n"
     ]
    }
   ],
   "source": [
    "# Predefined credentials\n",
    "username = \"admin\"\n",
    "password = \"1234\"\n",
    "\n",
    "# Ask user for input\n",
    "input_username = input(\"Enter username: \")\n",
    "if input_username == username:\n",
    "    input_password = input(\"Enter password: \")\n",
    "    if input_password == password:\n",
    "        print(\"Access granted\")\n",
    "    else:\n",
    "        print(\"Incorrect password\")\n",
    "else:\n",
    "    print(\"Incorrect username\")\n"
   ]
  },
  {
   "cell_type": "code",
   "execution_count": 5,
   "id": "6d6fb527-0fca-4225-bef0-fd7a067ba764",
   "metadata": {},
   "outputs": [
    {
     "name": "stdin",
     "output_type": "stream",
     "text": [
      "Enter an integer:  5\n"
     ]
    },
    {
     "name": "stdout",
     "output_type": "stream",
     "text": [
      "The entered value exists in the tuple.\n"
     ]
    }
   ],
   "source": [
    "# Define the tuple\n",
    "my_tuple = (5, 10, 15, 20, 25)\n",
    "\n",
    "# Take integer input from the user\n",
    "user_input = int(input(\"Enter an integer: \"))\n",
    "\n",
    "# Check if the value exists in the tuple\n",
    "if user_input in my_tuple:\n",
    "    print(\"The entered value exists in the tuple.\")\n",
    "else:\n",
    "    print(\"The entered value does not exist in the tuple.\")\n"
   ]
  },
  {
   "cell_type": "code",
   "execution_count": 6,
   "id": "d3725c4e-aa3d-4405-8d4e-76cf97c2d09f",
   "metadata": {},
   "outputs": [
    {
     "name": "stdin",
     "output_type": "stream",
     "text": [
      "Enter your first name:  shah\n",
      "Enter your last name:  hamza\n",
      "Enter your age:  25\n"
     ]
    },
    {
     "name": "stdout",
     "output_type": "stream",
     "text": [
      "User information tuple: ('shah', 'hamza', 25)\n"
     ]
    }
   ],
   "source": [
    "# Take user input\n",
    "first_name = input(\"Enter your first name: \")\n",
    "last_name = input(\"Enter your last name: \")\n",
    "age = int(input(\"Enter your age: \"))\n",
    "\n",
    "# Pack the inputs into a tuple\n",
    "user_info = (first_name, last_name, age)\n",
    "\n",
    "# Print the tuple\n",
    "print(\"User information tuple:\", user_info)\n"
   ]
  },
  {
   "cell_type": "code",
   "execution_count": 7,
   "id": "2efbabd7-825b-494a-98fc-5028830e84b3",
   "metadata": {},
   "outputs": [
    {
     "name": "stdout",
     "output_type": "stream",
     "text": [
      "The sum of x, y, and z is: 15\n"
     ]
    }
   ],
   "source": [
    "# Given tuple\n",
    "coordinates = (4, 5, 6)\n",
    "\n",
    "# Unpack the tuple\n",
    "x, y, z = coordinates\n",
    "\n",
    "# Calculate and print the sum\n",
    "total = x + y + z\n",
    "print(\"The sum of x, y, and z is:\", total)\n"
   ]
  },
  {
   "cell_type": "code",
   "execution_count": null,
   "id": "6548b799-b303-4857-a0f5-5034136dd700",
   "metadata": {},
   "outputs": [],
   "source": []
  }
 ],
 "metadata": {
  "kernelspec": {
   "display_name": "Python 3 (ipykernel)",
   "language": "python",
   "name": "python3"
  },
  "language_info": {
   "codemirror_mode": {
    "name": "ipython",
    "version": 3
   },
   "file_extension": ".py",
   "mimetype": "text/x-python",
   "name": "python",
   "nbconvert_exporter": "python",
   "pygments_lexer": "ipython3",
   "version": "3.12.7"
  }
 },
 "nbformat": 4,
 "nbformat_minor": 5
}
